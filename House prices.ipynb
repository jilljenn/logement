{
 "cells": [
  {
   "cell_type": "code",
   "execution_count": 2,
   "id": "a3ba86b6",
   "metadata": {},
   "outputs": [],
   "source": [
    "import json\n",
    "\n",
    "import pandas as pd\n",
    "#import plotly.express as px\n",
    "#import geopandas as gpd\n",
    "\n",
    "from math import sin, cos, sqrt, atan2, radians"
   ]
  },
  {
   "cell_type": "code",
   "execution_count": 3,
   "id": "39338b9e",
   "metadata": {},
   "outputs": [],
   "source": [
    "# maisons = pd.read_csv('indicateurs-loyers-maisons.csv', engine='python', encoding='iso-8859-1', sep=\";\",decimal=\",\")\n",
    "# maisons.head()"
   ]
  },
  {
   "cell_type": "code",
   "execution_count": 4,
   "id": "51d4b188",
   "metadata": {},
   "outputs": [],
   "source": [
    "# appart = pd.read_csv('indicateurs-loyers-appartements.csv', engine='python', encoding='iso-8859-1', sep=\";\",decimal=\",\")\n",
    "# appart.head()"
   ]
  },
  {
   "cell_type": "code",
   "execution_count": 5,
   "id": "46243ed5",
   "metadata": {},
   "outputs": [
    {
     "data": {
      "text/plain": [
       "'\\ndf = gpd.read_file(\"departements.geojson\")\\n\\ndf[\"lon\"] = df[\"geometry\"].centroid.x\\ndf[\"lat\"] = df[\"geometry\"].centroid.y\\ndf = df.sort_values(\"code\")\\ndf.head()\\n'"
      ]
     },
     "execution_count": 5,
     "metadata": {},
     "output_type": "execute_result"
    }
   ],
   "source": [
    "\"\"\"\n",
    "df = gpd.read_file(\"departements.geojson\")\n",
    "\n",
    "df[\"lon\"] = df[\"geometry\"].centroid.x\n",
    "df[\"lat\"] = df[\"geometry\"].centroid.y\n",
    "df = df.sort_values(\"code\")\n",
    "df.head()\n",
    "\"\"\""
   ]
  },
  {
   "cell_type": "code",
   "execution_count": 6,
   "id": "4c691ed8",
   "metadata": {},
   "outputs": [
    {
     "data": {
      "text/plain": [
       "'maisons[\"DEP\"] = maisons[\"DEP\"].str.zfill(2)\\nappart[\"DEP\"]  = appart[\"DEP\"].str.zfill(2)'"
      ]
     },
     "execution_count": 6,
     "metadata": {},
     "output_type": "execute_result"
    }
   ],
   "source": [
    "\"\"\"maisons[\"DEP\"] = maisons[\"DEP\"].str.zfill(2)\n",
    "appart[\"DEP\"]  = appart[\"DEP\"].str.zfill(2)\"\"\""
   ]
  },
  {
   "cell_type": "code",
   "execution_count": 7,
   "id": "94518d54",
   "metadata": {},
   "outputs": [
    {
     "data": {
      "text/plain": [
       "'departments = df[\"code\"].unique()\\nprices = pd.DataFrame(columns=[\\'dep\\',\\'price_houses\\',\\'price_appartments\\'])\\n\\nfor d in departments:\\n    m = maisons[\"loypredm2\"].loc[maisons[\"DEP\"]==d].mean()\\n    a = appart[\"loypredm2\"].loc[appart[\"DEP\"]==d].mean()\\n    prices = prices.append({\\'dep\\': d, \\'price_houses\\': m,\\'price_appartments\\':a}\\n                           , ignore_index=True)\\n\\nprices = prices.merge(df,left_on=\"dep\",right_on=\"code\")\\nprices = prices.drop(columns = [\\'code\\',\\'geometry\\'])\\nprices.head()'"
      ]
     },
     "execution_count": 7,
     "metadata": {},
     "output_type": "execute_result"
    }
   ],
   "source": [
    "\"\"\"departments = df[\"code\"].unique()\n",
    "prices = pd.DataFrame(columns=['dep','price_houses','price_appartments'])\n",
    "\n",
    "for d in departments:\n",
    "    m = maisons[\"loypredm2\"].loc[maisons[\"DEP\"]==d].mean()\n",
    "    a = appart[\"loypredm2\"].loc[appart[\"DEP\"]==d].mean()\n",
    "    prices = prices.append({'dep': d, 'price_houses': m,'price_appartments':a}\n",
    "                           , ignore_index=True)\n",
    "\n",
    "prices = prices.merge(df,left_on=\"dep\",right_on=\"code\")\n",
    "prices = prices.drop(columns = ['code','geometry'])\n",
    "prices.head()\"\"\""
   ]
  },
  {
   "cell_type": "code",
   "execution_count": 8,
   "id": "4e96f65f",
   "metadata": {},
   "outputs": [
    {
     "data": {
      "text/plain": [
       "'with open(\"departements.geojson\",\"r\") as f:\\n    cities = json.load(f)\\n    \\nfor feature in cities[\"features\"]:\\n    feature[\"id\"] = feature[\"properties\"][\"code\"] '"
      ]
     },
     "execution_count": 8,
     "metadata": {},
     "output_type": "execute_result"
    }
   ],
   "source": [
    "\"\"\"with open(\"departements.geojson\",\"r\") as f:\n",
    "    cities = json.load(f)\n",
    "    \n",
    "for feature in cities[\"features\"]:\n",
    "    feature[\"id\"] = feature[\"properties\"][\"code\"] \"\"\""
   ]
  },
  {
   "cell_type": "code",
   "execution_count": 9,
   "id": "26cf591d",
   "metadata": {},
   "outputs": [
    {
     "data": {
      "text/plain": [
       "'fig = px.choropleth_mapbox(prices,\\n                           geojson=cities,\\n                           locations=\"dep\",\\n                           hover_name=\\'nom\\',\\n                           color=\"price_houses\",\\n                           zoom=4.5, center = {\"lat\": 46.68, \"lon\": 2.17},\\n                           mapbox_style=\"open-street-map\")\\nfig.show()'"
      ]
     },
     "execution_count": 9,
     "metadata": {},
     "output_type": "execute_result"
    }
   ],
   "source": [
    "\"\"\"fig = px.choropleth_mapbox(prices,\n",
    "                           geojson=cities,\n",
    "                           locations=\"dep\",\n",
    "                           hover_name='nom',\n",
    "                           color=\"price_houses\",\n",
    "                           zoom=4.5, center = {\"lat\": 46.68, \"lon\": 2.17},\n",
    "                           mapbox_style=\"open-street-map\")\n",
    "fig.show()\"\"\""
   ]
  },
  {
   "cell_type": "code",
   "execution_count": 10,
   "id": "40434e1d",
   "metadata": {},
   "outputs": [
    {
     "data": {
      "text/plain": [
       "'fig = px.choropleth_mapbox(prices,\\n                           geojson=cities,\\n                           locations=\"dep\",\\n                           hover_name=\\'nom\\',\\n                           color=\"price_appartments\",\\n                           zoom=4.5, center = {\"lat\": 46.68, \"lon\": 2.17},\\n                           mapbox_style=\"open-street-map\")\\nfig.show()'"
      ]
     },
     "execution_count": 10,
     "metadata": {},
     "output_type": "execute_result"
    }
   ],
   "source": [
    "\"\"\"fig = px.choropleth_mapbox(prices,\n",
    "                           geojson=cities,\n",
    "                           locations=\"dep\",\n",
    "                           hover_name='nom',\n",
    "                           color=\"price_appartments\",\n",
    "                           zoom=4.5, center = {\"lat\": 46.68, \"lon\": 2.17},\n",
    "                           mapbox_style=\"open-street-map\")\n",
    "fig.show()\"\"\""
   ]
  },
  {
   "cell_type": "code",
   "execution_count": 11,
   "id": "0ec7fa19",
   "metadata": {},
   "outputs": [
    {
     "data": {
      "text/plain": [
       "\"dist = df['geometry'].distance(df['geometry'][0])[68]\\ndist\""
      ]
     },
     "execution_count": 11,
     "metadata": {},
     "output_type": "execute_result"
    }
   ],
   "source": [
    "\"\"\"dist = df['geometry'].distance(df['geometry'][0])[68]\n",
    "dist\"\"\""
   ]
  },
  {
   "cell_type": "code",
   "execution_count": 12,
   "id": "1898c90d",
   "metadata": {},
   "outputs": [
    {
     "data": {
      "text/plain": [
       "'def EarthDistanceKm (lat1,lon1,lat2,lon2):\\n    # approximate radius of earth in km\\n    R = 6373.0\\n    dlon = lon2 - lon1\\n    dlat = lat2 - lat1\\n    a = sin(dlat / 2)**2 + cos(lat1) * cos(lat2) * sin(dlon / 2)**2\\n    c = 2 * atan2(sqrt(a), sqrt(1 - a))\\n    distance = R * c\\n    return(distance)'"
      ]
     },
     "execution_count": 12,
     "metadata": {},
     "output_type": "execute_result"
    }
   ],
   "source": [
    "\"\"\"def EarthDistanceKm (lat1,lon1,lat2,lon2):\n",
    "    # approximate radius of earth in km\n",
    "    R = 6373.0\n",
    "    dlon = lon2 - lon1\n",
    "    dlat = lat2 - lat1\n",
    "    a = sin(dlat / 2)**2 + cos(lat1) * cos(lat2) * sin(dlon / 2)**2\n",
    "    c = 2 * atan2(sqrt(a), sqrt(1 - a))\n",
    "    distance = R * c\n",
    "    return(distance)\"\"\""
   ]
  },
  {
   "cell_type": "code",
   "execution_count": 13,
   "id": "652b8235",
   "metadata": {},
   "outputs": [
    {
     "data": {
      "text/plain": [
       "'from math import sin, cos, sqrt, atan2, radians\\n\\nlat1 = radians(46.099812)\\nlon1 = radians(5.348752)\\nlat2 = radians(49.561100)\\nlon2 = radians(3.559649)\\n\\ndistance = EarthDistanceKm (lat1,lon1,lat2,lon2)\\n\\nprint(\"Result:\", distance)\\nprint(\"Should be:\", dist, \"km\")'"
      ]
     },
     "execution_count": 13,
     "metadata": {},
     "output_type": "execute_result"
    }
   ],
   "source": [
    "\"\"\"from math import sin, cos, sqrt, atan2, radians\n",
    "\n",
    "lat1 = radians(46.099812)\n",
    "lon1 = radians(5.348752)\n",
    "lat2 = radians(49.561100)\n",
    "lon2 = radians(3.559649)\n",
    "\n",
    "distance = EarthDistanceKm (lat1,lon1,lat2,lon2)\n",
    "\n",
    "print(\"Result:\", distance)\n",
    "print(\"Should be:\", dist, \"km\")\"\"\""
   ]
  },
  {
   "cell_type": "code",
   "execution_count": 14,
   "id": "e3d9ceff",
   "metadata": {},
   "outputs": [
    {
     "data": {
      "text/plain": [
       "'dist * 6373.0'"
      ]
     },
     "execution_count": 14,
     "metadata": {},
     "output_type": "execute_result"
    }
   ],
   "source": [
    "\"\"\"dist * 6373.0\"\"\""
   ]
  },
  {
   "cell_type": "code",
   "execution_count": 15,
   "id": "eeeaae39",
   "metadata": {},
   "outputs": [
    {
     "data": {
      "text/plain": [
       "'from sklearn.metrics.pairwise import haversine_distances\\n\\nhaversine_distances([[lat1,lon2], [lat2,lon2]]) * 6373.0'"
      ]
     },
     "execution_count": 15,
     "metadata": {},
     "output_type": "execute_result"
    }
   ],
   "source": [
    "\"\"\"from sklearn.metrics.pairwise import haversine_distances\n",
    "\n",
    "haversine_distances([[lat1,lon2], [lat2,lon2]]) * 6373.0\"\"\""
   ]
  },
  {
   "cell_type": "markdown",
   "id": "e112d0a1",
   "metadata": {},
   "source": [
    "# Loading data"
   ]
  },
  {
   "cell_type": "code",
   "execution_count": 16,
   "id": "7fde92a5",
   "metadata": {},
   "outputs": [
    {
     "name": "stderr",
     "output_type": "stream",
     "text": [
      "/home/jj/Documents/Logement Hackathon Parietal/venv/lib/python3.8/site-packages/IPython/core/interactiveshell.py:3457: DtypeWarning: Columns (3,4) have mixed types.Specify dtype option on import or set low_memory=False.\n",
      "  exec(code_obj, self.user_global_ns, self.user_ns)\n"
     ]
    },
    {
     "data": {
      "text/plain": [
       "array([[<AxesSubplot:title={'center':'prix_m2'}>]], dtype=object)"
      ]
     },
     "execution_count": 16,
     "metadata": {},
     "output_type": "execute_result"
    },
    {
     "data": {
      "image/png": "[encoded data removed]",
      "text/plain": [
       "<Figure size 432x288 with 1 Axes>"
      ]
     },
     "metadata": {
      "needs_background": "light"
     },
     "output_type": "display_data"
    }
   ],
   "source": [
    "import numpy as np\n",
    "\n",
    "pd.read_csv(\"data/dvf-subset-2018-geo.csv\").query(\n",
    "    \"prix_m2 == prix_m2 and latitude == latitude and longitude == longitude\")[['prix_m2']].clip(1, 20000).hist(bins=50)"
   ]
  },
  {
   "cell_type": "code",
   "execution_count": 17,
   "id": "3bbffff2",
   "metadata": {},
   "outputs": [
    {
     "name": "stderr",
     "output_type": "stream",
     "text": [
      "/home/jj/Documents/Logement Hackathon Parietal/venv/lib/python3.8/site-packages/IPython/core/interactiveshell.py:3457: DtypeWarning: Columns (3,4) have mixed types.Specify dtype option on import or set low_memory=False.\n",
      "  exec(code_obj, self.user_global_ns, self.user_ns)\n"
     ]
    }
   ],
   "source": [
    "new_data = pd.read_csv(\"data/dvf-subset-2018-geo.csv\").query(\n",
    "    \"prix_m2 == prix_m2 and latitude == latitude and longitude == longitude and prix_m2 < 20000\")"
   ]
  },
  {
   "cell_type": "code",
   "execution_count": 19,
   "id": "8584cc06",
   "metadata": {},
   "outputs": [],
   "source": [
    "# pd.concat((X, target), axis=1)"
   ]
  },
  {
   "cell_type": "code",
   "execution_count": 20,
   "id": "eb40abe0",
   "metadata": {},
   "outputs": [
    {
     "data": {
      "text/html": [
       "<div>\n",
       "<style scoped>\n",
       "    .dataframe tbody tr th:only-of-type {\n",
       "        vertical-align: middle;\n",
       "    }\n",
       "\n",
       "    .dataframe tbody tr th {\n",
       "        vertical-align: top;\n",
       "    }\n",
       "\n",
       "    .dataframe thead th {\n",
       "        text-align: right;\n",
       "    }\n",
       "</style>\n",
       "<table border=\"1\" class=\"dataframe\">\n",
       "  <thead>\n",
       "    <tr style=\"text-align: right;\">\n",
       "      <th></th>\n",
       "      <th>date_mutation</th>\n",
       "      <th>valeur_fonciere</th>\n",
       "      <th>code_postal</th>\n",
       "      <th>code_commune</th>\n",
       "      <th>code_departement</th>\n",
       "      <th>nom_commune</th>\n",
       "      <th>nombre_pieces_principales</th>\n",
       "      <th>surface_reelle_bati</th>\n",
       "      <th>longitude</th>\n",
       "      <th>latitude</th>\n",
       "      <th>prix_m2</th>\n",
       "    </tr>\n",
       "  </thead>\n",
       "  <tbody>\n",
       "    <tr>\n",
       "      <th>0</th>\n",
       "      <td>2018-01-03</td>\n",
       "      <td>109000.0</td>\n",
       "      <td>1000.0</td>\n",
       "      <td>1053</td>\n",
       "      <td>1</td>\n",
       "      <td>Bourg-en-Bresse</td>\n",
       "      <td>4.0</td>\n",
       "      <td>73.0</td>\n",
       "      <td>5.220463</td>\n",
       "      <td>46.200053</td>\n",
       "      <td>1493.150685</td>\n",
       "    </tr>\n",
       "    <tr>\n",
       "      <th>1</th>\n",
       "      <td>2018-01-04</td>\n",
       "      <td>67000.0</td>\n",
       "      <td>1000.0</td>\n",
       "      <td>1053</td>\n",
       "      <td>1</td>\n",
       "      <td>Bourg-en-Bresse</td>\n",
       "      <td>1.0</td>\n",
       "      <td>45.0</td>\n",
       "      <td>5.236839</td>\n",
       "      <td>46.201145</td>\n",
       "      <td>1488.888889</td>\n",
       "    </tr>\n",
       "    <tr>\n",
       "      <th>2</th>\n",
       "      <td>2018-01-11</td>\n",
       "      <td>76200.0</td>\n",
       "      <td>1000.0</td>\n",
       "      <td>1053</td>\n",
       "      <td>1</td>\n",
       "      <td>Bourg-en-Bresse</td>\n",
       "      <td>3.0</td>\n",
       "      <td>68.0</td>\n",
       "      <td>5.226492</td>\n",
       "      <td>46.191168</td>\n",
       "      <td>1120.588235</td>\n",
       "    </tr>\n",
       "    <tr>\n",
       "      <th>3</th>\n",
       "      <td>2018-01-18</td>\n",
       "      <td>65000.0</td>\n",
       "      <td>1000.0</td>\n",
       "      <td>1053</td>\n",
       "      <td>1</td>\n",
       "      <td>Bourg-en-Bresse</td>\n",
       "      <td>3.0</td>\n",
       "      <td>69.0</td>\n",
       "      <td>5.220652</td>\n",
       "      <td>46.193394</td>\n",
       "      <td>942.028986</td>\n",
       "    </tr>\n",
       "    <tr>\n",
       "      <th>4</th>\n",
       "      <td>2018-01-10</td>\n",
       "      <td>47600.0</td>\n",
       "      <td>1000.0</td>\n",
       "      <td>1053</td>\n",
       "      <td>1</td>\n",
       "      <td>Bourg-en-Bresse</td>\n",
       "      <td>2.0</td>\n",
       "      <td>45.0</td>\n",
       "      <td>5.217598</td>\n",
       "      <td>46.199177</td>\n",
       "      <td>1057.777778</td>\n",
       "    </tr>\n",
       "  </tbody>\n",
       "</table>\n",
       "</div>"
      ],
      "text/plain": [
       "  date_mutation  valeur_fonciere  code_postal code_commune code_departement  \\\n",
       "0    2018-01-03         109000.0       1000.0         1053                1   \n",
       "1    2018-01-04          67000.0       1000.0         1053                1   \n",
       "2    2018-01-11          76200.0       1000.0         1053                1   \n",
       "3    2018-01-18          65000.0       1000.0         1053                1   \n",
       "4    2018-01-10          47600.0       1000.0         1053                1   \n",
       "\n",
       "       nom_commune  nombre_pieces_principales  surface_reelle_bati  longitude  \\\n",
       "0  Bourg-en-Bresse                        4.0                 73.0   5.220463   \n",
       "1  Bourg-en-Bresse                        1.0                 45.0   5.236839   \n",
       "2  Bourg-en-Bresse                        3.0                 68.0   5.226492   \n",
       "3  Bourg-en-Bresse                        3.0                 69.0   5.220652   \n",
       "4  Bourg-en-Bresse                        2.0                 45.0   5.217598   \n",
       "\n",
       "    latitude      prix_m2  \n",
       "0  46.200053  1493.150685  \n",
       "1  46.201145  1488.888889  \n",
       "2  46.191168  1120.588235  \n",
       "3  46.193394   942.028986  \n",
       "4  46.199177  1057.777778  "
      ]
     },
     "execution_count": 20,
     "metadata": {},
     "output_type": "execute_result"
    }
   ],
   "source": [
    "new_data.head()"
   ]
  },
  {
   "cell_type": "code",
   "execution_count": 21,
   "id": "0a85e328",
   "metadata": {},
   "outputs": [],
   "source": [
    "# np.median(target)"
   ]
  },
  {
   "cell_type": "code",
   "execution_count": 22,
   "id": "a6c5e510",
   "metadata": {
    "scrolled": true
   },
   "outputs": [],
   "source": [
    "subset_data = new_data.groupby('nom_commune').agg({\n",
    "    'longitude': 'first', 'latitude': 'first', 'prix_m2': 'median'})"
   ]
  },
  {
   "cell_type": "code",
   "execution_count": 23,
   "id": "e0848590",
   "metadata": {},
   "outputs": [
    {
     "data": {
      "text/plain": [
       "(9332, 3)"
      ]
     },
     "execution_count": 23,
     "metadata": {},
     "output_type": "execute_result"
    }
   ],
   "source": [
    "subset_data.shape"
   ]
  },
  {
   "cell_type": "code",
   "execution_count": 24,
   "id": "d6177c93",
   "metadata": {},
   "outputs": [
    {
     "data": {
      "text/html": [
       "<div>\n",
       "<style scoped>\n",
       "    .dataframe tbody tr th:only-of-type {\n",
       "        vertical-align: middle;\n",
       "    }\n",
       "\n",
       "    .dataframe tbody tr th {\n",
       "        vertical-align: top;\n",
       "    }\n",
       "\n",
       "    .dataframe thead th {\n",
       "        text-align: right;\n",
       "    }\n",
       "</style>\n",
       "<table border=\"1\" class=\"dataframe\">\n",
       "  <thead>\n",
       "    <tr style=\"text-align: right;\">\n",
       "      <th></th>\n",
       "      <th>longitude</th>\n",
       "      <th>latitude</th>\n",
       "      <th>prix_m2</th>\n",
       "    </tr>\n",
       "    <tr>\n",
       "      <th>nom_commune</th>\n",
       "      <th></th>\n",
       "      <th></th>\n",
       "      <th></th>\n",
       "    </tr>\n",
       "  </thead>\n",
       "  <tbody>\n",
       "    <tr>\n",
       "      <th>Abbeville</th>\n",
       "      <td>1.830747</td>\n",
       "      <td>50.106891</td>\n",
       "      <td>2120.772947</td>\n",
       "    </tr>\n",
       "    <tr>\n",
       "      <th>Abbévillers</th>\n",
       "      <td>6.920613</td>\n",
       "      <td>47.429274</td>\n",
       "      <td>1625.000000</td>\n",
       "    </tr>\n",
       "    <tr>\n",
       "      <th>Abeilhan</th>\n",
       "      <td>3.295414</td>\n",
       "      <td>43.449242</td>\n",
       "      <td>1633.333333</td>\n",
       "    </tr>\n",
       "    <tr>\n",
       "      <th>Ablain-Saint-Nazaire</th>\n",
       "      <td>2.709577</td>\n",
       "      <td>50.392692</td>\n",
       "      <td>2704.830054</td>\n",
       "    </tr>\n",
       "    <tr>\n",
       "      <th>Ablis</th>\n",
       "      <td>1.833085</td>\n",
       "      <td>48.516725</td>\n",
       "      <td>4347.826087</td>\n",
       "    </tr>\n",
       "    <tr>\n",
       "      <th>...</th>\n",
       "      <td>...</td>\n",
       "      <td>...</td>\n",
       "      <td>...</td>\n",
       "    </tr>\n",
       "    <tr>\n",
       "      <th>Île-Tudy</th>\n",
       "      <td>-4.169088</td>\n",
       "      <td>47.839889</td>\n",
       "      <td>3052.380952</td>\n",
       "    </tr>\n",
       "    <tr>\n",
       "      <th>Île-aux-Moines</th>\n",
       "      <td>-2.850656</td>\n",
       "      <td>47.599293</td>\n",
       "      <td>5591.666667</td>\n",
       "    </tr>\n",
       "    <tr>\n",
       "      <th>Île-d'Houat</th>\n",
       "      <td>-2.953226</td>\n",
       "      <td>47.389722</td>\n",
       "      <td>6571.428571</td>\n",
       "    </tr>\n",
       "    <tr>\n",
       "      <th>Île-de-Batz</th>\n",
       "      <td>-4.015744</td>\n",
       "      <td>48.743084</td>\n",
       "      <td>8367.346939</td>\n",
       "    </tr>\n",
       "    <tr>\n",
       "      <th>Île-de-Bréhat</th>\n",
       "      <td>-2.997652</td>\n",
       "      <td>48.838466</td>\n",
       "      <td>4880.952381</td>\n",
       "    </tr>\n",
       "  </tbody>\n",
       "</table>\n",
       "<p>9332 rows × 3 columns</p>\n",
       "</div>"
      ],
      "text/plain": [
       "                      longitude   latitude      prix_m2\n",
       "nom_commune                                            \n",
       "Abbeville              1.830747  50.106891  2120.772947\n",
       "Abbévillers            6.920613  47.429274  1625.000000\n",
       "Abeilhan               3.295414  43.449242  1633.333333\n",
       "Ablain-Saint-Nazaire   2.709577  50.392692  2704.830054\n",
       "Ablis                  1.833085  48.516725  4347.826087\n",
       "...                         ...        ...          ...\n",
       "Île-Tudy              -4.169088  47.839889  3052.380952\n",
       "Île-aux-Moines        -2.850656  47.599293  5591.666667\n",
       "Île-d'Houat           -2.953226  47.389722  6571.428571\n",
       "Île-de-Batz           -4.015744  48.743084  8367.346939\n",
       "Île-de-Bréhat         -2.997652  48.838466  4880.952381\n",
       "\n",
       "[9332 rows x 3 columns]"
      ]
     },
     "execution_count": 24,
     "metadata": {},
     "output_type": "execute_result"
    }
   ],
   "source": [
    "subset_data"
   ]
  },
  {
   "cell_type": "code",
   "execution_count": 25,
   "id": "a5302c58",
   "metadata": {},
   "outputs": [],
   "source": [
    "data, target = new_data[[\"longitude\", \"latitude\"]], new_data[\"prix_m2\"]\n",
    "# data, target = subset_data[[\"longitude\", \"latitude\"]], subset_data[\"prix_m2\"]"
   ]
  },
  {
   "cell_type": "code",
   "execution_count": 26,
   "id": "bd8c2f3a",
   "metadata": {},
   "outputs": [
    {
     "data": {
      "text/plain": [
       "((464738,), (464738, 2))"
      ]
     },
     "execution_count": 26,
     "metadata": {},
     "output_type": "execute_result"
    }
   ],
   "source": [
    "target.shape, data.shape"
   ]
  },
  {
   "cell_type": "code",
   "execution_count": 27,
   "id": "3997d731",
   "metadata": {},
   "outputs": [],
   "source": [
    "target = np.clip(target, 1, 30000)"
   ]
  },
  {
   "cell_type": "code",
   "execution_count": 28,
   "id": "f06fe082",
   "metadata": {},
   "outputs": [
    {
     "data": {
      "text/plain": [
       "Index(['date_mutation', 'valeur_fonciere', 'code_postal', 'code_commune',\n",
       "       'code_departement', 'nom_commune', 'nombre_pieces_principales',\n",
       "       'surface_reelle_bati', 'longitude', 'latitude', 'prix_m2'],\n",
       "      dtype='object')"
      ]
     },
     "execution_count": 28,
     "metadata": {},
     "output_type": "execute_result"
    }
   ],
   "source": [
    "new_data.columns"
   ]
  },
  {
   "cell_type": "code",
   "execution_count": 29,
   "id": "6805727e",
   "metadata": {
    "scrolled": true
   },
   "outputs": [
    {
     "data": {
      "text/plain": [
       "code_departement\n",
       "1     2267.528792\n",
       "2     2366.197183\n",
       "3     1413.154646\n",
       "4     1812.135417\n",
       "5     2196.969697\n",
       "         ...     \n",
       "29    1563.600000\n",
       "2A    3109.609610\n",
       "2B    2571.428571\n",
       "30    2204.545455\n",
       "31    2666.666667\n",
       "Name: prix_m2, Length: 99, dtype: float64"
      ]
     },
     "execution_count": 29,
     "metadata": {},
     "output_type": "execute_result"
    }
   ],
   "source": [
    "new_data.groupby('code_departement')['prix_m2'].median()"
   ]
  },
  {
   "cell_type": "code",
   "execution_count": 31,
   "id": "a887fc69",
   "metadata": {},
   "outputs": [
    {
     "data": {
      "text/plain": [
       "(array([134856., 173684.,  66753.,  30954.,  23970.,  15785.,   8190.,\n",
       "          4611.,   3331.,   2604.]),\n",
       " array([1.00000000e+00, 2.00001632e+03, 3.99903265e+03, 5.99804897e+03,\n",
       "        7.99706529e+03, 9.99608162e+03, 1.19950979e+04, 1.39941143e+04,\n",
       "        1.59931306e+04, 1.79921469e+04, 1.99911632e+04]),\n",
       " <BarContainer object of 10 artists>)"
      ]
     },
     "execution_count": 31,
     "metadata": {},
     "output_type": "execute_result"
    },
    {
     "data": {
      "image/png": "[encoded data removed]",
      "text/plain": [
       "<Figure size 432x288 with 1 Axes>"
      ]
     },
     "metadata": {
      "needs_background": "light"
     },
     "output_type": "display_data"
    }
   ],
   "source": [
    "import matplotlib.pyplot as plt\n",
    "\n",
    "plt.hist(target)"
   ]
  },
  {
   "cell_type": "markdown",
   "id": "7647766d",
   "metadata": {},
   "source": [
    "# Predicting features"
   ]
  },
  {
   "cell_type": "code",
   "execution_count": 33,
   "id": "a8871385",
   "metadata": {},
   "outputs": [],
   "source": [
    "# data, target = prices[[\"lon\",\"lat\"]], prices[\"price_houses\"]"
   ]
  },
  {
   "cell_type": "code",
   "execution_count": 34,
   "id": "a2560b08",
   "metadata": {},
   "outputs": [],
   "source": [
    "from sklearn.preprocessing import StandardScaler\n",
    "from sklearn.pipeline import make_pipeline\n",
    "\n",
    "scaler = StandardScaler()"
   ]
  },
  {
   "cell_type": "code",
   "execution_count": 35,
   "id": "72940dac",
   "metadata": {},
   "outputs": [
    {
     "name": "stdout",
     "output_type": "stream",
     "text": [
      "<class 'pandas.core.frame.DataFrame'>\n",
      "Int64Index: 464738 entries, 0 to 530398\n",
      "Data columns (total 2 columns):\n",
      " #   Column     Non-Null Count   Dtype  \n",
      "---  ------     --------------   -----  \n",
      " 0   longitude  464738 non-null  float64\n",
      " 1   latitude   464738 non-null  float64\n",
      "dtypes: float64(2)\n",
      "memory usage: 10.6 MB\n"
     ]
    }
   ],
   "source": [
    "data.info()"
   ]
  },
  {
   "cell_type": "code",
   "execution_count": 37,
   "id": "4120e9e7",
   "metadata": {},
   "outputs": [],
   "source": [
    "# prices.head()"
   ]
  },
  {
   "cell_type": "code",
   "execution_count": 38,
   "id": "caf7fd3f",
   "metadata": {
    "scrolled": true
   },
   "outputs": [],
   "source": [
    "# prices.hist()"
   ]
  },
  {
   "cell_type": "code",
   "execution_count": 40,
   "id": "278b9135",
   "metadata": {},
   "outputs": [],
   "source": [
    "# new_main"
   ]
  },
  {
   "cell_type": "code",
   "execution_count": 41,
   "id": "3c192df6",
   "metadata": {},
   "outputs": [],
   "source": [
    "scaled = scaler.fit_transform(data)"
   ]
  },
  {
   "cell_type": "code",
   "execution_count": 42,
   "id": "9f70fef6",
   "metadata": {
    "scrolled": true
   },
   "outputs": [
    {
     "data": {
      "text/plain": [
       "count    464738.000000\n",
       "mean       4036.420518\n",
       "std        3374.712616\n",
       "min           1.000000\n",
       "25%        1838.235294\n",
       "50%        2936.507937\n",
       "75%        4940.683256\n",
       "max       19991.163235\n",
       "Name: prix_m2, dtype: float64"
      ]
     },
     "execution_count": 42,
     "metadata": {},
     "output_type": "execute_result"
    }
   ],
   "source": [
    "#scaled\n",
    "target.describe()"
   ]
  },
  {
   "cell_type": "code",
   "execution_count": 43,
   "id": "47e48624",
   "metadata": {},
   "outputs": [],
   "source": [
    "def displayres(v):\n",
    "    return -scores.mean(), np.sqrt(-scores).mean(), 1.96 * np.sqrt(-scores).std()"
   ]
  },
  {
   "cell_type": "code",
   "execution_count": 45,
   "id": "3620f7de",
   "metadata": {},
   "outputs": [],
   "source": [
    "# scores.mean(), scores.std()\n",
    "# scores"
   ]
  },
  {
   "cell_type": "code",
   "execution_count": 46,
   "id": "b80128e2",
   "metadata": {},
   "outputs": [],
   "source": [
    "#plt.hist(scores)"
   ]
  },
  {
   "cell_type": "code",
   "execution_count": 47,
   "id": "1da27dc7",
   "metadata": {},
   "outputs": [
    {
     "name": "stdout",
     "output_type": "stream",
     "text": [
      "The mean cross-validation accuracy is: 11389781.395 +/- 112304.898\n"
     ]
    },
    {
     "data": {
      "text/plain": [
       "(11389781.394591067, 3374.864360201839, 16.624778520208924)"
      ]
     },
     "execution_count": 47,
     "metadata": {},
     "output_type": "execute_result"
    }
   ],
   "source": [
    "from sklearn.dummy import DummyRegressor\n",
    "from sklearn.neighbors import KNeighborsRegressor\n",
    "from sklearn.model_selection import cross_val_score\n",
    "from sklearn.model_selection import ShuffleSplit\n",
    "\n",
    "cv = ShuffleSplit(n_splits=5, test_size=0.2, random_state=0)\n",
    "\n",
    "dummy = DummyRegressor(strategy=\"mean\")\n",
    "scores = cross_val_score(dummy, scaled, target, cv=cv, scoring=\"neg_mean_squared_error\")\n",
    "print(\"The mean cross-validation accuracy is: \"\n",
    "      f\"{-scores.mean():.3f} +/- {1.96*scores.std():.3f}\")\n",
    "displayres(scores)"
   ]
  },
  {
   "cell_type": "code",
   "execution_count": 48,
   "id": "bd1727f6",
   "metadata": {},
   "outputs": [
    {
     "data": {
      "text/plain": [
       "Counter({4036.420517725589: 464738})"
      ]
     },
     "execution_count": 48,
     "metadata": {},
     "output_type": "execute_result"
    }
   ],
   "source": [
    "from collections import Counter\n",
    "\n",
    "dummy.fit(scaled, target)\n",
    "Counter(dummy.predict(scaled).tolist())"
   ]
  },
  {
   "cell_type": "code",
   "execution_count": 49,
   "id": "1f029825",
   "metadata": {},
   "outputs": [],
   "source": [
    "from sklearn import set_config\n",
    "set_config(display='diagram')"
   ]
  },
  {
   "cell_type": "code",
   "execution_count": 52,
   "id": "cd6484f5",
   "metadata": {},
   "outputs": [],
   "source": [
    "from sklearn.pipeline import Pipeline\n",
    "from sklearn.preprocessing import OneHotEncoder, MaxAbsScaler\n",
    "from sklearn.compose import ColumnTransformer\n",
    "from sklearn.feature_extraction import FeatureHasher\n",
    "from sklearn.feature_extraction.text import HashingVectorizer\n",
    "from sklearn.ensemble import StackingRegressor\n",
    "from sklearn.linear_model import LinearRegression\n",
    "\n",
    "numeric_features = ['latitude', 'longitude']\n",
    "numeric_transformer = StandardScaler()\n",
    "\n",
    "categorical_features = ['nom_commune', 'nombre_pieces_principales']\n",
    "categorical_transformer = OneHotEncoder(handle_unknown='ignore')\n",
    "# categorical_transformer = HashingVectorizer(n_features=9)\n",
    "\n",
    "# simple_categorical = ['nombre_pieces_principales']\n",
    "# simple_cat_transformer = MaxAbsScaler()\n",
    "\n",
    "preprocessor = ColumnTransformer(\n",
    "    transformers=[\n",
    "        ('city / nb_rooms', categorical_transformer, categorical_features),\n",
    "    ])\n",
    "\n",
    "preprocessor2 = ColumnTransformer(\n",
    "    transformers=[\n",
    "        ('lat / lon', numeric_transformer, numeric_features),\n",
    "    ])\n",
    "\n",
    "estimators = [\n",
    "    ('categorical', preprocessor),\n",
    "    ('linear', LinearRegression())\n",
    "]\n",
    "pipe = Pipeline(estimators)\n",
    "\n",
    "estimators2 = [\n",
    "    ('continuous', preprocessor2),\n",
    "    ('knn', KNeighborsRegressor(n_neighbors=25, weights=\"distance\"))\n",
    "     # RandomForestRegressor(n_estimators=10))\n",
    "]\n",
    "pipe2 = Pipeline(estimators2)"
   ]
  },
  {
   "cell_type": "code",
   "execution_count": 53,
   "id": "da81438f",
   "metadata": {},
   "outputs": [
    {
     "data": {
      "text/html": [
       "<style>#sk-bf5336eb-5d5a-40b1-871f-a8d92f8839cf {color: black;background-color: white;}#sk-bf5336eb-5d5a-40b1-871f-a8d92f8839cf pre{padding: 0;}#sk-bf5336eb-5d5a-40b1-871f-a8d92f8839cf div.sk-toggleable {background-color: white;}#sk-bf5336eb-5d5a-40b1-871f-a8d92f8839cf label.sk-toggleable__label {cursor: pointer;display: block;width: 100%;margin-bottom: 0;padding: 0.3em;box-sizing: border-box;text-align: center;}#sk-bf5336eb-5d5a-40b1-871f-a8d92f8839cf div.sk-toggleable__content {max-height: 0;max-width: 0;overflow: hidden;text-align: left;background-color: #f0f8ff;}#sk-bf5336eb-5d5a-40b1-871f-a8d92f8839cf div.sk-toggleable__content pre {margin: 0.2em;color: black;border-radius: 0.25em;background-color: #f0f8ff;}#sk-bf5336eb-5d5a-40b1-871f-a8d92f8839cf input.sk-toggleable__control:checked~div.sk-toggleable__content {max-height: 200px;max-width: 100%;overflow: auto;}#sk-bf5336eb-5d5a-40b1-871f-a8d92f8839cf div.sk-estimator input.sk-toggleable__control:checked~label.sk-toggleable__label {background-color: #d4ebff;}#sk-bf5336eb-5d5a-40b1-871f-a8d92f8839cf div.sk-label input.sk-toggleable__control:checked~label.sk-toggleable__label {background-color: #d4ebff;}#sk-bf5336eb-5d5a-40b1-871f-a8d92f8839cf input.sk-hidden--visually {border: 0;clip: rect(1px 1px 1px 1px);clip: rect(1px, 1px, 1px, 1px);height: 1px;margin: -1px;overflow: hidden;padding: 0;position: absolute;width: 1px;}#sk-bf5336eb-5d5a-40b1-871f-a8d92f8839cf div.sk-estimator {font-family: monospace;background-color: #f0f8ff;border: 1px dotted black;border-radius: 0.25em;box-sizing: border-box;margin-bottom: 0.5em;}#sk-bf5336eb-5d5a-40b1-871f-a8d92f8839cf div.sk-estimator:hover {background-color: #d4ebff;}#sk-bf5336eb-5d5a-40b1-871f-a8d92f8839cf div.sk-parallel-item::after {content: \"\";width: 100%;border-bottom: 1px solid gray;flex-grow: 1;}#sk-bf5336eb-5d5a-40b1-871f-a8d92f8839cf div.sk-label:hover label.sk-toggleable__label {background-color: #d4ebff;}#sk-bf5336eb-5d5a-40b1-871f-a8d92f8839cf div.sk-serial::before {content: \"\";position: absolute;border-left: 1px solid gray;box-sizing: border-box;top: 2em;bottom: 0;left: 50%;}#sk-bf5336eb-5d5a-40b1-871f-a8d92f8839cf div.sk-serial {display: flex;flex-direction: column;align-items: center;background-color: white;padding-right: 0.2em;padding-left: 0.2em;}#sk-bf5336eb-5d5a-40b1-871f-a8d92f8839cf div.sk-item {z-index: 1;}#sk-bf5336eb-5d5a-40b1-871f-a8d92f8839cf div.sk-parallel {display: flex;align-items: stretch;justify-content: center;background-color: white;}#sk-bf5336eb-5d5a-40b1-871f-a8d92f8839cf div.sk-parallel::before {content: \"\";position: absolute;border-left: 1px solid gray;box-sizing: border-box;top: 2em;bottom: 0;left: 50%;}#sk-bf5336eb-5d5a-40b1-871f-a8d92f8839cf div.sk-parallel-item {display: flex;flex-direction: column;position: relative;background-color: white;}#sk-bf5336eb-5d5a-40b1-871f-a8d92f8839cf div.sk-parallel-item:first-child::after {align-self: flex-end;width: 50%;}#sk-bf5336eb-5d5a-40b1-871f-a8d92f8839cf div.sk-parallel-item:last-child::after {align-self: flex-start;width: 50%;}#sk-bf5336eb-5d5a-40b1-871f-a8d92f8839cf div.sk-parallel-item:only-child::after {width: 0;}#sk-bf5336eb-5d5a-40b1-871f-a8d92f8839cf div.sk-dashed-wrapped {border: 1px dashed gray;margin: 0 0.4em 0.5em 0.4em;box-sizing: border-box;padding-bottom: 0.4em;background-color: white;position: relative;}#sk-bf5336eb-5d5a-40b1-871f-a8d92f8839cf div.sk-label label {font-family: monospace;font-weight: bold;background-color: white;display: inline-block;line-height: 1.2em;}#sk-bf5336eb-5d5a-40b1-871f-a8d92f8839cf div.sk-label-container {position: relative;z-index: 2;text-align: center;}#sk-bf5336eb-5d5a-40b1-871f-a8d92f8839cf div.sk-container {display: inline-block;position: relative;}</style><div id=\"sk-bf5336eb-5d5a-40b1-871f-a8d92f8839cf\" class\"sk-top-container\"><div class=\"sk-container\"><div class=\"sk-item sk-dashed-wrapped\"><div class=\"sk-label-container\"><div class=\"sk-label sk-toggleable\"><input class=\"sk-toggleable__control sk-hidden--visually\" id=\"c1086e66-31e3-4f34-9176-e0da14ed2e38\" type=\"checkbox\" ><label class=\"sk-toggleable__label\" for=\"c1086e66-31e3-4f34-9176-e0da14ed2e38\">StackingRegressor</label><div class=\"sk-toggleable__content\"><pre>StackingRegressor(estimators=[('linear model',\n",
       "                               Pipeline(steps=[('categorical',\n",
       "                                                ColumnTransformer(transformers=[('city '\n",
       "                                                                                 '/ '\n",
       "                                                                                 'nb_rooms',\n",
       "                                                                                 OneHotEncoder(handle_unknown='ignore'),\n",
       "                                                                                 ['nom_commune',\n",
       "                                                                                  'nombre_pieces_principales'])])),\n",
       "                                               ('linear',\n",
       "                                                LinearRegression())])),\n",
       "                              ('k-nearest-neighbors',\n",
       "                               Pipeline(steps=[('continuous',\n",
       "                                                ColumnTransformer(transformers=[('lat '\n",
       "                                                                                 '/ '\n",
       "                                                                                 'lon',\n",
       "                                                                                 StandardScaler(),\n",
       "                                                                                 ['latitude',\n",
       "                                                                                  'longitude'])])),\n",
       "                                               ('knn',\n",
       "                                                KNeighborsRegressor(n_neighbors=25,\n",
       "                                                                    weights='distance'))]))])</pre></div></div></div><div class=\"sk-serial\"><div class=\"sk-item\"><div class=\"sk-parallel\"><div class=\"sk-parallel-item\"><div class=\"sk-item\"><div class=\"sk-label-container\"><div class=\"sk-label sk-toggleable\"><label>linear model</label></div></div><div class=\"sk-serial\"><div class=\"sk-item\"><div class=\"sk-serial\"><div class=\"sk-item sk-dashed-wrapped\"><div class=\"sk-label-container\"><div class=\"sk-label sk-toggleable\"><input class=\"sk-toggleable__control sk-hidden--visually\" id=\"44f2c175-1d94-4370-b23e-04fac1e510df\" type=\"checkbox\" ><label class=\"sk-toggleable__label\" for=\"44f2c175-1d94-4370-b23e-04fac1e510df\">categorical: ColumnTransformer</label><div class=\"sk-toggleable__content\"><pre>ColumnTransformer(transformers=[('city / nb_rooms',\n",
       "                                 OneHotEncoder(handle_unknown='ignore'),\n",
       "                                 ['nom_commune', 'nombre_pieces_principales'])])</pre></div></div></div><div class=\"sk-parallel\"><div class=\"sk-parallel-item\"><div class=\"sk-item\"><div class=\"sk-label-container\"><div class=\"sk-label sk-toggleable\"><input class=\"sk-toggleable__control sk-hidden--visually\" id=\"a259117d-835f-43ca-b6a3-caf9e5cd6695\" type=\"checkbox\" ><label class=\"sk-toggleable__label\" for=\"a259117d-835f-43ca-b6a3-caf9e5cd6695\">city / nb_rooms</label><div class=\"sk-toggleable__content\"><pre>['nom_commune', 'nombre_pieces_principales']</pre></div></div></div><div class=\"sk-serial\"><div class=\"sk-item\"><div class=\"sk-estimator sk-toggleable\"><input class=\"sk-toggleable__control sk-hidden--visually\" id=\"71c57c2c-2014-4577-993d-0a17d3e2d8f6\" type=\"checkbox\" ><label class=\"sk-toggleable__label\" for=\"71c57c2c-2014-4577-993d-0a17d3e2d8f6\">OneHotEncoder</label><div class=\"sk-toggleable__content\"><pre>OneHotEncoder(handle_unknown='ignore')</pre></div></div></div></div></div></div></div></div><div class=\"sk-item\"><div class=\"sk-estimator sk-toggleable\"><input class=\"sk-toggleable__control sk-hidden--visually\" id=\"a2f532a7-bd83-43cb-b400-7c1438d6debc\" type=\"checkbox\" ><label class=\"sk-toggleable__label\" for=\"a2f532a7-bd83-43cb-b400-7c1438d6debc\">LinearRegression</label><div class=\"sk-toggleable__content\"><pre>LinearRegression()</pre></div></div></div></div></div></div></div></div><div class=\"sk-parallel-item\"><div class=\"sk-item\"><div class=\"sk-label-container\"><div class=\"sk-label sk-toggleable\"><label>k-nearest-neighbors</label></div></div><div class=\"sk-serial\"><div class=\"sk-item\"><div class=\"sk-serial\"><div class=\"sk-item sk-dashed-wrapped\"><div class=\"sk-label-container\"><div class=\"sk-label sk-toggleable\"><input class=\"sk-toggleable__control sk-hidden--visually\" id=\"74bc180d-d251-4a02-be92-82d1e2e7d244\" type=\"checkbox\" ><label class=\"sk-toggleable__label\" for=\"74bc180d-d251-4a02-be92-82d1e2e7d244\">continuous: ColumnTransformer</label><div class=\"sk-toggleable__content\"><pre>ColumnTransformer(transformers=[('lat / lon', StandardScaler(),\n",
       "                                 ['latitude', 'longitude'])])</pre></div></div></div><div class=\"sk-parallel\"><div class=\"sk-parallel-item\"><div class=\"sk-item\"><div class=\"sk-label-container\"><div class=\"sk-label sk-toggleable\"><input class=\"sk-toggleable__control sk-hidden--visually\" id=\"764f62ab-9419-4278-bdb2-c079e68c1327\" type=\"checkbox\" ><label class=\"sk-toggleable__label\" for=\"764f62ab-9419-4278-bdb2-c079e68c1327\">lat / lon</label><div class=\"sk-toggleable__content\"><pre>['latitude', 'longitude']</pre></div></div></div><div class=\"sk-serial\"><div class=\"sk-item\"><div class=\"sk-estimator sk-toggleable\"><input class=\"sk-toggleable__control sk-hidden--visually\" id=\"862e960e-a484-4feb-b0ce-4089e5b0e3d4\" type=\"checkbox\" ><label class=\"sk-toggleable__label\" for=\"862e960e-a484-4feb-b0ce-4089e5b0e3d4\">StandardScaler</label><div class=\"sk-toggleable__content\"><pre>StandardScaler()</pre></div></div></div></div></div></div></div></div><div class=\"sk-item\"><div class=\"sk-estimator sk-toggleable\"><input class=\"sk-toggleable__control sk-hidden--visually\" id=\"cfab84f5-67f1-4a58-a4fc-7942f8cdf775\" type=\"checkbox\" ><label class=\"sk-toggleable__label\" for=\"cfab84f5-67f1-4a58-a4fc-7942f8cdf775\">KNeighborsRegressor</label><div class=\"sk-toggleable__content\"><pre>KNeighborsRegressor(n_neighbors=25, weights='distance')</pre></div></div></div></div></div></div></div></div></div></div><div class=\"sk-item\"><div class=\"sk-parallel\"><div class=\"sk-parallel-item\"><div class=\"sk-item\"><div class=\"sk-label-container\"><div class=\"sk-label sk-toggleable\"><label>final_estimator</label></div></div><div class=\"sk-serial\"><div class=\"sk-item\"><div class=\"sk-estimator sk-toggleable\"><input class=\"sk-toggleable__control sk-hidden--visually\" id=\"df017901-c682-4360-b242-8bd73eb63a44\" type=\"checkbox\" ><label class=\"sk-toggleable__label\" for=\"df017901-c682-4360-b242-8bd73eb63a44\">RidgeCV</label><div class=\"sk-toggleable__content\"><pre>RidgeCV(alphas=array([ 0.1,  1. , 10. ]))</pre></div></div></div></div></div></div></div></div></div></div></div></div>"
      ],
      "text/plain": [
       "StackingRegressor(estimators=[('linear model',\n",
       "                               Pipeline(steps=[('categorical',\n",
       "                                                ColumnTransformer(transformers=[('city '\n",
       "                                                                                 '/ '\n",
       "                                                                                 'nb_rooms',\n",
       "                                                                                 OneHotEncoder(handle_unknown='ignore'),\n",
       "                                                                                 ['nom_commune',\n",
       "                                                                                  'nombre_pieces_principales'])])),\n",
       "                                               ('linear',\n",
       "                                                LinearRegression())])),\n",
       "                              ('k-nearest-neighbors',\n",
       "                               Pipeline(steps=[('continuous',\n",
       "                                                ColumnTransformer(transformers=[('lat '\n",
       "                                                                                 '/ '\n",
       "                                                                                 'lon',\n",
       "                                                                                 StandardScaler(),\n",
       "                                                                                 ['latitude',\n",
       "                                                                                  'longitude'])])),\n",
       "                                               ('knn',\n",
       "                                                KNeighborsRegressor(n_neighbors=25,\n",
       "                                                                    weights='distance'))]))])"
      ]
     },
     "execution_count": 53,
     "metadata": {},
     "output_type": "execute_result"
    }
   ],
   "source": [
    "sr = StackingRegressor(estimators=[('linear model', pipe), ('k-nearest-neighbors', pipe2)])\n",
    "\n",
    "sr"
   ]
  },
  {
   "cell_type": "code",
   "execution_count": 54,
   "id": "5ca5c35e",
   "metadata": {},
   "outputs": [
    {
     "data": {
      "text/plain": [
       "((464738, 9364), (464738, 2))"
      ]
     },
     "execution_count": 54,
     "metadata": {},
     "output_type": "execute_result"
    }
   ],
   "source": [
    "X = new_data[[\"nom_commune\", \"latitude\", \"longitude\", \"nombre_pieces_principales\"]]\n",
    "\n",
    "preprocessor.fit_transform(X).shape, preprocessor2.fit_transform(X).shape,"
   ]
  },
  {
   "cell_type": "code",
   "execution_count": null,
   "id": "974c60c4",
   "metadata": {},
   "outputs": [],
   "source": [
    "%%time\n",
    "scores = cross_val_score(sr, X, target, cv=cv, scoring=\"neg_mean_squared_error\")\n",
    "print(\"For powered lin reg + nb pieces we find that\" )\n",
    "print(\"The mean cross-validation accuracy is: \"\n",
    "  f\"{-scores.mean():.3f} +/- {scores.std():.3f}\")\n",
    "displayres(scores)"
   ]
  },
  {
   "cell_type": "code",
   "execution_count": 56,
   "id": "f57eec32",
   "metadata": {},
   "outputs": [
    {
     "data": {
      "text/plain": [
       "2293.9306877061476"
      ]
     },
     "execution_count": 56,
     "metadata": {},
     "output_type": "execute_result"
    }
   ],
   "source": [
    "5262118 ** 0.5"
   ]
  },
  {
   "cell_type": "code",
   "execution_count": 57,
   "id": "308c76f2",
   "metadata": {},
   "outputs": [
    {
     "data": {
      "text/plain": [
       "nom_commune                    9332\n",
       "latitude                     194868\n",
       "longitude                    198724\n",
       "nombre_pieces_principales        32\n",
       "dtype: int64"
      ]
     },
     "execution_count": 57,
     "metadata": {},
     "output_type": "execute_result"
    }
   ],
   "source": [
    "X.nunique()"
   ]
  },
  {
   "cell_type": "code",
   "execution_count": 58,
   "id": "b606a105",
   "metadata": {},
   "outputs": [
    {
     "data": {
      "text/html": [
       "<div>\n",
       "<style scoped>\n",
       "    .dataframe tbody tr th:only-of-type {\n",
       "        vertical-align: middle;\n",
       "    }\n",
       "\n",
       "    .dataframe tbody tr th {\n",
       "        vertical-align: top;\n",
       "    }\n",
       "\n",
       "    .dataframe thead th {\n",
       "        text-align: right;\n",
       "    }\n",
       "</style>\n",
       "<table border=\"1\" class=\"dataframe\">\n",
       "  <thead>\n",
       "    <tr style=\"text-align: right;\">\n",
       "      <th></th>\n",
       "      <th>latitude</th>\n",
       "      <th>longitude</th>\n",
       "      <th>nom_commune</th>\n",
       "    </tr>\n",
       "  </thead>\n",
       "  <tbody>\n",
       "    <tr>\n",
       "      <th>0</th>\n",
       "      <td>46.200053</td>\n",
       "      <td>5.220463</td>\n",
       "      <td>Bourg-en-Bresse</td>\n",
       "    </tr>\n",
       "    <tr>\n",
       "      <th>1</th>\n",
       "      <td>46.201145</td>\n",
       "      <td>5.236839</td>\n",
       "      <td>Bourg-en-Bresse</td>\n",
       "    </tr>\n",
       "    <tr>\n",
       "      <th>2</th>\n",
       "      <td>46.191168</td>\n",
       "      <td>5.226492</td>\n",
       "      <td>Bourg-en-Bresse</td>\n",
       "    </tr>\n",
       "    <tr>\n",
       "      <th>3</th>\n",
       "      <td>46.193394</td>\n",
       "      <td>5.220652</td>\n",
       "      <td>Bourg-en-Bresse</td>\n",
       "    </tr>\n",
       "    <tr>\n",
       "      <th>4</th>\n",
       "      <td>46.199177</td>\n",
       "      <td>5.217598</td>\n",
       "      <td>Bourg-en-Bresse</td>\n",
       "    </tr>\n",
       "  </tbody>\n",
       "</table>\n",
       "</div>"
      ],
      "text/plain": [
       "    latitude  longitude      nom_commune\n",
       "0  46.200053   5.220463  Bourg-en-Bresse\n",
       "1  46.201145   5.236839  Bourg-en-Bresse\n",
       "2  46.191168   5.226492  Bourg-en-Bresse\n",
       "3  46.193394   5.220652  Bourg-en-Bresse\n",
       "4  46.199177   5.217598  Bourg-en-Bresse"
      ]
     },
     "execution_count": 58,
     "metadata": {},
     "output_type": "execute_result"
    }
   ],
   "source": [
    "X[['latitude', 'longitude', 'nom_commune']].head()"
   ]
  },
  {
   "cell_type": "code",
   "execution_count": 59,
   "id": "1136063a",
   "metadata": {},
   "outputs": [
    {
     "data": {
      "text/plain": [
       "(464738, 9364)"
      ]
     },
     "execution_count": 59,
     "metadata": {},
     "output_type": "execute_result"
    }
   ],
   "source": [
    "preprocessor.fit_transform(X).shape"
   ]
  },
  {
   "cell_type": "code",
   "execution_count": null,
   "id": "009afe71",
   "metadata": {},
   "outputs": [],
   "source": [
    "scores = cross_val_score(pipe, X, target, cv=cv, scoring=\"neg_mean_squared_error\")\n",
    "print(\"For powered lin reg we find that\" )\n",
    "print(\"The mean cross-validation accuracy is: \"\n",
    "  f\"{-scores.mean():.3f} +/- {scores.std():.3f}\")\n",
    "print(displayres(scores))"
   ]
  },
  {
   "cell_type": "code",
   "execution_count": null,
   "id": "0957a2de",
   "metadata": {},
   "outputs": [],
   "source": [
    "scores = cross_val_score(pipe2, X, target, cv=cv, scoring=\"neg_mean_squared_error\")\n",
    "print(\"For powered lin reg + nb pieces we find that\" )\n",
    "print(\"The mean cross-validation accuracy is: \"\n",
    "  f\"{-scores.mean():.3f} +/- {scores.std():.3f}\")\n",
    "print(displayres(scores))"
   ]
  },
  {
   "cell_type": "code",
   "execution_count": 113,
   "id": "9a6bce2f",
   "metadata": {},
   "outputs": [
    {
     "name": "stdout",
     "output_type": "stream",
     "text": [
      "For powered lin reg + nb pieces we find that\n",
      "The mean cross-validation accuracy is: 6644233.248 +/- 26107.115\n"
     ]
    }
   ],
   "source": [
    "scores = cross_val_score(pipe2, X, target, cv=cv, scoring=\"neg_mean_squared_error\")\n",
    "print(\"For powered lin reg + nb pieces we find that\" )\n",
    "print(\"The mean cross-validation accuracy is: \"\n",
    "  f\"{-scores.mean():.3f} +/- {scores.std():.3f}\")"
   ]
  },
  {
   "cell_type": "code",
   "execution_count": 61,
   "id": "9b2ebca0",
   "metadata": {},
   "outputs": [],
   "source": [
    "X_piece = np.concatenate((scaled, X[['nombre_pieces_principales']]), axis=1)"
   ]
  },
  {
   "cell_type": "code",
   "execution_count": 44,
   "id": "efcca4a5",
   "metadata": {},
   "outputs": [
    {
     "name": "stdout",
     "output_type": "stream",
     "text": [
      "For powered lin reg + nb pieces we find that\n",
      "The mean cross-validation accuracy is: 6623400.044 +/- 29097.163\n",
      "CPU times: user 15.3 s, sys: 0 ns, total: 15.3 s\n",
      "Wall time: 15.3 s\n"
     ]
    }
   ],
   "source": [
    "%%time\n",
    "rfr_small = RandomForestRegressor(n_estimators=10)\n",
    "\n",
    "scores = cross_val_score(rfr_small, X_piece, target, cv=cv, scoring=\"neg_mean_squared_error\")\n",
    "print(\"For powered lin reg + nb pieces we find that\" )\n",
    "print(\"The mean cross-validation accuracy is: \"\n",
    "  f\"{-scores.mean():.3f} +/- {scores.std():.3f}\")"
   ]
  },
  {
   "cell_type": "code",
   "execution_count": 173,
   "id": "cbff4107",
   "metadata": {},
   "outputs": [
    {
     "name": "stdout",
     "output_type": "stream",
     "text": [
      "For lin reg we find that\n",
      "The mean cross-validation accuracy is: 11287141.985 +/- 10725.631\n"
     ]
    }
   ],
   "source": [
    "from sklearn.linear_model import LinearRegression\n",
    "\n",
    "regression = LinearRegression()\n",
    "scores = cross_val_score(regression, scaled, target, cv=cv, scoring=\"neg_mean_squared_error\")\n",
    "print(\"For lin reg we find that\" )\n",
    "print(\"The mean cross-validation accuracy is: \"\n",
    "  f\"{-scores.mean():.3f} +/- {scores.std():.3f}\")"
   ]
  },
  {
   "cell_type": "code",
   "execution_count": 178,
   "id": "be0c5f31",
   "metadata": {},
   "outputs": [
    {
     "data": {
      "text/plain": [
       "array([4060.27119879, 4060.43791831, 4059.80802229, ..., 4192.4142411 ,\n",
       "       4192.59671354, 4192.60233742])"
      ]
     },
     "execution_count": 178,
     "metadata": {},
     "output_type": "execute_result"
    }
   ],
   "source": [
    "regression.fit(scaled, target)\n",
    "regression.predict(scaled)"
   ]
  },
  {
   "cell_type": "code",
   "execution_count": 189,
   "id": "5e4f3f3c",
   "metadata": {},
   "outputs": [
    {
     "name": "stdout",
     "output_type": "stream",
     "text": [
      "For 5  nearest neighbors we find that\n",
      "The mean cross-validation accuracy is: 5203792.700 +/- 90412.606\n",
      "(5203792.699924762, 2281.09615585487, 38.85685387202548)\n",
      "For 25  nearest neighbors we find that\n",
      "The mean cross-validation accuracy is: 6456190.744 +/- 58494.127\n",
      "(6456190.743512077, 2540.8775138149895, 22.5360201187925)\n",
      "For 45  nearest neighbors we find that\n",
      "The mean cross-validation accuracy is: 6773402.430 +/- 58552.667\n",
      "(6773402.430228932, 2602.5518558719914, 22.024306956697416)\n"
     ]
    }
   ],
   "source": [
    "for n_neigh in range (5, 46, 20):\n",
    "    KNN = KNeighborsRegressor(n_neighbors=n_neigh)\n",
    "    scores = cross_val_score(KNN, scaled, target, cv=cv, scoring=\"neg_mean_squared_error\")\n",
    "    print(\"For\",n_neigh,\" nearest neighbors we find that\" )\n",
    "    print(\"The mean cross-validation accuracy is: \"\n",
    "      f\"{-scores.mean():.3f} +/- {scores.std():.3f}\")\n",
    "    print(displayres(scores))"
   ]
  },
  {
   "cell_type": "code",
   "execution_count": 62,
   "id": "863f95f9",
   "metadata": {},
   "outputs": [
    {
     "data": {
      "text/plain": [
       "(464738, 2)"
      ]
     },
     "execution_count": 62,
     "metadata": {},
     "output_type": "execute_result"
    }
   ],
   "source": [
    "scaled.shape"
   ]
  },
  {
   "cell_type": "code",
   "execution_count": 208,
   "id": "be57baa4",
   "metadata": {},
   "outputs": [
    {
     "name": "stdout",
     "output_type": "stream",
     "text": [
      "For 25  nearest neighbors we find that\n",
      "The mean cross-validation accuracy is: 3746809.498 +/- 163195.296\n",
      "(3746809.4978273287, 1935.2099841977033, 82.5021458933991)\n",
      "For 45  nearest neighbors we find that\n",
      "The mean cross-validation accuracy is: 3699174.730 +/- 158614.092\n",
      "(3699174.729651434, 1922.8830238810629, 80.7083668288415)\n",
      "CPU times: user 4.17 s, sys: 0 ns, total: 4.17 s\n",
      "Wall time: 4.17 s\n"
     ]
    }
   ],
   "source": [
    "%%time\n",
    "\n",
    "# Weighted KNN\n",
    "\n",
    "from sklearn.neighbors import KNeighborsRegressor\n",
    "from sklearn.model_selection import cross_val_score\n",
    "from sklearn.model_selection import ShuffleSplit\n",
    "\n",
    "cv = ShuffleSplit(n_splits=5, test_size=0.2, random_state=0)\n",
    "scaled = scaler.transform(data)\n",
    "\n",
    "for n_neigh in range (25, 46, 20):\n",
    "    KNN = KNeighborsRegressor(n_neighbors=n_neigh, weights = \"distance\", metric='haversine')\n",
    "    scores = cross_val_score(KNN, scaled, target, cv=cv, scoring=\"neg_mean_squared_error\")\n",
    "    print(\"For\",n_neigh,\" nearest neighbors we find that\" )\n",
    "    print(\"The mean cross-validation accuracy is: \"\n",
    "      f\"{-scores.mean():.3f} +/- {scores.std():.3f}\")\n",
    "    print(displayres(scores))"
   ]
  },
  {
   "cell_type": "code",
   "execution_count": null,
   "id": "9779dd0a",
   "metadata": {},
   "outputs": [],
   "source": [
    "from sklearn.neighbors import KNeighborsRegressor\n",
    "from sklearn.model_selection import cross_val_score\n",
    "from sklearn.model_selection import ShuffleSplit\n",
    "\n",
    "cv = ShuffleSplit(n_splits=5, test_size=0.2, random_state=0)\n",
    "scaled = scaler.transform(data)\n",
    "\n",
    "for n_neigh in range (25, 46, 20):\n",
    "    KNN = KNeighborsRegressor(n_neighbors=n_neigh, weights = \"distance\", metric='haversine')\n",
    "    scores = cross_val_score(KNN, scaled, target, cv=cv, scoring=\"neg_mean_squared_error\")\n",
    "    print(\"For\",n_neigh,\" nearest neighbors we find that\" )\n",
    "    print(\"The mean cross-validation accuracy is: \"\n",
    "      f\"{-scores.mean():.3f} +/- {scores.std():.3f}\")"
   ]
  },
  {
   "cell_type": "code",
   "execution_count": 63,
   "id": "aeab9cfd",
   "metadata": {},
   "outputs": [
    {
     "data": {
      "text/plain": [
       "2351.920704445624"
      ]
     },
     "execution_count": 63,
     "metadata": {},
     "output_type": "execute_result"
    }
   ],
   "source": [
    "5531531 ** 0.5"
   ]
  },
  {
   "cell_type": "code",
   "execution_count": null,
   "id": "5cbd5cdf",
   "metadata": {},
   "outputs": [],
   "source": [
    "from sklearn.ensemble import RandomForestRegressor\n",
    "\n",
    "rfr = RandomForestRegressor()\n",
    "rfr.fit(X, target)"
   ]
  },
  {
   "cell_type": "code",
   "execution_count": 64,
   "id": "1a35da0a",
   "metadata": {},
   "outputs": [
    {
     "data": {
      "text/plain": [
       "array([[<AxesSubplot:title={'center':'prix_m2'}>]], dtype=object)"
      ]
     },
     "execution_count": 64,
     "metadata": {},
     "output_type": "execute_result"
    },
    {
     "data": {
      "image/png": "[encoded data removed]",
      "text/plain": [
       "<Figure size 432x288 with 1 Axes>"
      ]
     },
     "metadata": {
      "needs_background": "light"
     },
     "output_type": "display_data"
    }
   ],
   "source": [
    "new_data[['prix_m2']].clip(1, 20000).hist(bins=100)"
   ]
  },
  {
   "cell_type": "code",
   "execution_count": 65,
   "id": "41671c5c",
   "metadata": {},
   "outputs": [
    {
     "data": {
      "text/plain": [
       "<AxesSubplot:>"
      ]
     },
     "execution_count": 65,
     "metadata": {},
     "output_type": "execute_result"
    },
    {
     "data": {
      "image/png": "[encoded data removed]",
      "text/plain": [
       "<Figure size 432x288 with 1 Axes>"
      ]
     },
     "metadata": {
      "needs_background": "light"
     },
     "output_type": "display_data"
    }
   ],
   "source": [
    "target.hist()"
   ]
  },
  {
   "cell_type": "code",
   "execution_count": 66,
   "id": "47592523",
   "metadata": {},
   "outputs": [
    {
     "data": {
      "text/plain": [
       "array([11375969.1734409 , 11316342.1267883 , 11366364.98806159,\n",
       "       11490719.17984174, 11399511.5048228 ])"
      ]
     },
     "execution_count": 66,
     "metadata": {},
     "output_type": "execute_result"
    }
   ],
   "source": [
    "-scores"
   ]
  },
  {
   "cell_type": "code",
   "execution_count": 97,
   "id": "5a0d7d06",
   "metadata": {},
   "outputs": [
    {
     "data": {
      "text/plain": [
       "(array([8.06932493, 7.46867074, 5.99482614, 9.80847266, 8.41919547]),\n",
       " 0    8.548639\n",
       " 1    6.941459\n",
       " 2    6.076627\n",
       " 3    8.232209\n",
       " 4    8.014030\n",
       " Name: price_houses, dtype: float64)"
      ]
     },
     "execution_count": 97,
     "metadata": {},
     "output_type": "execute_result"
    }
   ],
   "source": [
    "model.fit(scaled, target)\n",
    "model.predict(scaled[:5]), target[:5]"
   ]
  },
  {
   "cell_type": "code",
   "execution_count": 75,
   "id": "193479c3",
   "metadata": {},
   "outputs": [
    {
     "data": {
      "text/plain": [
       "0    8.548639\n",
       "1    6.941459\n",
       "2    6.076627\n",
       "3    8.232209\n",
       "4    8.014030\n",
       "Name: price_houses, dtype: float64"
      ]
     },
     "execution_count": 75,
     "metadata": {},
     "output_type": "execute_result"
    }
   ],
   "source": [
    "target.head()"
   ]
  },
  {
   "cell_type": "code",
   "execution_count": 100,
   "id": "c594f688",
   "metadata": {},
   "outputs": [
    {
     "name": "stdout",
     "output_type": "stream",
     "text": [
      "The mean cross-validation accuracy is: 13.268 +/- 2.671\n"
     ]
    }
   ],
   "source": [
    "from sklearn.ensemble import GradientBoostingRegressor\n",
    "\n",
    "gradient_boosting = GradientBoostingRegressor(n_estimators=200)\n",
    "scores = cross_val_score(gradient_boosting, scaled, target, cv=cv, scoring=\"neg_mean_squared_error\")\n",
    "print(\"The mean cross-validation accuracy is: \"\n",
    "      f\"{-scores.mean():.3f} +/- {scores.std():.3f}\")"
   ]
  }
 ],
 "metadata": {
  "kernelspec": {
   "display_name": "Python 3 (ipykernel)",
   "language": "python",
   "name": "python3"
  },
  "language_info": {
   "codemirror_mode": {
    "name": "ipython",
    "version": 3
   },
   "file_extension": ".py",
   "mimetype": "text/x-python",
   "name": "python",
   "nbconvert_exporter": "python",
   "pygments_lexer": "ipython3",
   "version": "3.8.10"
  }
 },
 "nbformat": 4,
 "nbformat_minor": 5
}
